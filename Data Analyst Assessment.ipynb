{
 "cells": [
  {
   "cell_type": "code",
   "execution_count": 286,
   "id": "1c28a961",
   "metadata": {},
   "outputs": [],
   "source": [
    "import pandas as pd\n",
    "import matplotlib.pyplot as plt\n",
    "import seaborn as sns\n",
    "import numpy as np\n",
    "import datetime\n",
    "from datetime import datetime"
   ]
  },
  {
   "cell_type": "code",
   "execution_count": 287,
   "id": "d359606d",
   "metadata": {},
   "outputs": [
    {
     "name": "stderr",
     "output_type": "stream",
     "text": [
      "<ipython-input-287-c4d982623a58>:3: FutureWarning: Passing a negative integer is deprecated in version 1.0 and will not be supported in future version. Instead, use None to not limit the column width.\n",
      "  pd.set_option('display.max_colwidth', -1)\n"
     ]
    }
   ],
   "source": [
    "# to set data to its max width in a dataframe\n",
    "pd.options.display.max_rows\n",
    "pd.set_option('display.max_colwidth', -1)"
   ]
  },
  {
   "cell_type": "code",
   "execution_count": 288,
   "id": "7b224a6e",
   "metadata": {},
   "outputs": [
    {
     "data": {
      "text/html": [
       "<div>\n",
       "<style scoped>\n",
       "    .dataframe tbody tr th:only-of-type {\n",
       "        vertical-align: middle;\n",
       "    }\n",
       "\n",
       "    .dataframe tbody tr th {\n",
       "        vertical-align: top;\n",
       "    }\n",
       "\n",
       "    .dataframe thead th {\n",
       "        text-align: right;\n",
       "    }\n",
       "</style>\n",
       "<table border=\"1\" class=\"dataframe\">\n",
       "  <thead>\n",
       "    <tr style=\"text-align: right;\">\n",
       "      <th></th>\n",
       "      <th>Review</th>\n",
       "      <th>date</th>\n",
       "      <th>Location</th>\n",
       "    </tr>\n",
       "  </thead>\n",
       "  <tbody>\n",
       "    <tr>\n",
       "      <th>0</th>\n",
       "      <td>I was very impressed with the resort.\\n Great staff at the main resort pool bar! We had a blast with them.\\n Clean, professional staff, great location and very reasonable!\\n  \\n  Read more\\n  Read less</td>\n",
       "      <td>20/08/2019</td>\n",
       "      <td>Sebastian</td>\n",
       "    </tr>\n",
       "    <tr>\n",
       "      <th>1</th>\n",
       "      <td>The rooms were nice the outside needs work also no free breakfast it would have been nice overall it was ok\\n  \\n  Read more\\n  Read less</td>\n",
       "      <td>20/08/2019</td>\n",
       "      <td>Los Angeles</td>\n",
       "    </tr>\n",
       "    <tr>\n",
       "      <th>2</th>\n",
       "      <td>Great location! I have stayed at this hotel on my last three trips to New York.\\n  \\n  Read more\\n  Read less</td>\n",
       "      <td>20/08/2019</td>\n",
       "      <td>Georgia</td>\n",
       "    </tr>\n",
       "    <tr>\n",
       "      <th>3</th>\n",
       "      <td>The hotel was adequate for my stay. The strips in the bathtub were useless as I fell while taking a shower. I asked the front desk staff several times to get a bath mat but they never did. Management was unresponsive to my request which was very poor; someone should have gone to a dollar store and gotten a bath mat. Breakfast was good but it would have been nice to have had yogurt and/or cottage cheese on the buffet.\\n  \\n  Read more\\n  Read less</td>\n",
       "      <td>20/08/2019</td>\n",
       "      <td>NaN</td>\n",
       "    </tr>\n",
       "    <tr>\n",
       "      <th>4</th>\n",
       "      <td>Great location, room was large and spacious. Parking was easy and we appreciated the friendly staff\\n  \\n  Read more\\n  Read less</td>\n",
       "      <td>19/08/2019</td>\n",
       "      <td>Palm Harbor</td>\n",
       "    </tr>\n",
       "  </tbody>\n",
       "</table>\n",
       "</div>"
      ],
      "text/plain": [
       "                                                                                                                                                                                                                                                                                                                                                                                                                                                               Review  \\\n",
       "0  I was very impressed with the resort.\\n Great staff at the main resort pool bar! We had a blast with them.\\n Clean, professional staff, great location and very reasonable!\\n  \\n  Read more\\n  Read less                                                                                                                                                                                                                                                            \n",
       "1  The rooms were nice the outside needs work also no free breakfast it would have been nice overall it was ok\\n  \\n  Read more\\n  Read less                                                                                                                                                                                                                                                                                                                            \n",
       "2  Great location! I have stayed at this hotel on my last three trips to New York.\\n  \\n  Read more\\n  Read less                                                                                                                                                                                                                                                                                                                                                        \n",
       "3  The hotel was adequate for my stay. The strips in the bathtub were useless as I fell while taking a shower. I asked the front desk staff several times to get a bath mat but they never did. Management was unresponsive to my request which was very poor; someone should have gone to a dollar store and gotten a bath mat. Breakfast was good but it would have been nice to have had yogurt and/or cottage cheese on the buffet.\\n  \\n  Read more\\n  Read less   \n",
       "4  Great location, room was large and spacious. Parking was easy and we appreciated the friendly staff\\n  \\n  Read more\\n  Read less                                                                                                                                                                                                                                                                                                                                    \n",
       "\n",
       "         date     Location  \n",
       "0  20/08/2019  Sebastian    \n",
       "1  20/08/2019  Los Angeles  \n",
       "2  20/08/2019  Georgia      \n",
       "3  20/08/2019  NaN          \n",
       "4  19/08/2019  Palm Harbor  "
      ]
     },
     "execution_count": 288,
     "metadata": {},
     "output_type": "execute_result"
    }
   ],
   "source": [
    "df = pd.read_csv('Data Analyst - Test Data - US.csv', parse_dates=['date'])\n",
    "df.head()"
   ]
  },
  {
   "cell_type": "code",
   "execution_count": 289,
   "id": "74136527",
   "metadata": {},
   "outputs": [
    {
     "name": "stdout",
     "output_type": "stream",
     "text": [
      "<class 'pandas.core.frame.DataFrame'>\n",
      "RangeIndex: 6448 entries, 0 to 6447\n",
      "Data columns (total 3 columns):\n",
      " #   Column    Non-Null Count  Dtype \n",
      "---  ------    --------------  ----- \n",
      " 0   Review    6393 non-null   object\n",
      " 1   date      6448 non-null   object\n",
      " 2   Location  1711 non-null   object\n",
      "dtypes: object(3)\n",
      "memory usage: 151.2+ KB\n"
     ]
    }
   ],
   "source": [
    "df.info()"
   ]
  },
  {
   "cell_type": "code",
   "execution_count": 302,
   "id": "cf9e7973",
   "metadata": {},
   "outputs": [
    {
     "data": {
      "text/plain": [
       "Review      55  \n",
       "date        0   \n",
       "Location    4737\n",
       "year        0   \n",
       "month       0   \n",
       "dtype: int64"
      ]
     },
     "execution_count": 302,
     "metadata": {},
     "output_type": "execute_result"
    }
   ],
   "source": [
    "df.isnull().sum() \n"
   ]
  },
  {
   "cell_type": "code",
   "execution_count": 305,
   "id": "2b4873b6",
   "metadata": {},
   "outputs": [
    {
     "data": {
      "text/plain": [
       "<AxesSubplot:>"
      ]
     },
     "execution_count": 305,
     "metadata": {},
     "output_type": "execute_result"
    },
    {
     "data": {
      "image/png": "[encoded data removed]",
      "text/plain": [
       "<Figure size 720x720 with 1 Axes>"
      ]
     },
     "metadata": {
      "needs_background": "light"
     },
     "output_type": "display_data"
    }
   ],
   "source": [
    "df.isnull().sum().plot(kind='bar', figsize=(10,10))"
   ]
  },
  {
   "cell_type": "code",
   "execution_count": 291,
   "id": "e4c67af0",
   "metadata": {},
   "outputs": [
    {
     "data": {
      "text/plain": [
       "4"
      ]
     },
     "execution_count": 291,
     "metadata": {},
     "output_type": "execute_result"
    }
   ],
   "source": [
    "df.duplicated().sum()"
   ]
  },
  {
   "cell_type": "code",
   "execution_count": 292,
   "id": "a7e1aaf7",
   "metadata": {},
   "outputs": [
    {
     "data": {
      "text/html": [
       "<div>\n",
       "<style scoped>\n",
       "    .dataframe tbody tr th:only-of-type {\n",
       "        vertical-align: middle;\n",
       "    }\n",
       "\n",
       "    .dataframe tbody tr th {\n",
       "        vertical-align: top;\n",
       "    }\n",
       "\n",
       "    .dataframe thead th {\n",
       "        text-align: right;\n",
       "    }\n",
       "</style>\n",
       "<table border=\"1\" class=\"dataframe\">\n",
       "  <thead>\n",
       "    <tr style=\"text-align: right;\">\n",
       "      <th></th>\n",
       "      <th>Review</th>\n",
       "      <th>date</th>\n",
       "      <th>Location</th>\n",
       "    </tr>\n",
       "  </thead>\n",
       "  <tbody>\n",
       "    <tr>\n",
       "      <th>2366</th>\n",
       "      <td>NaN</td>\n",
       "      <td>22/02/2019</td>\n",
       "      <td>NaN</td>\n",
       "    </tr>\n",
       "    <tr>\n",
       "      <th>2663</th>\n",
       "      <td>NaN</td>\n",
       "      <td>28/01/2019</td>\n",
       "      <td>NaN</td>\n",
       "    </tr>\n",
       "    <tr>\n",
       "      <th>2670</th>\n",
       "      <td>NaN</td>\n",
       "      <td>28/01/2019</td>\n",
       "      <td>NaN</td>\n",
       "    </tr>\n",
       "    <tr>\n",
       "      <th>2671</th>\n",
       "      <td>NaN</td>\n",
       "      <td>28/01/2019</td>\n",
       "      <td>NaN</td>\n",
       "    </tr>\n",
       "  </tbody>\n",
       "</table>\n",
       "</div>"
      ],
      "text/plain": [
       "     Review        date Location\n",
       "2366  NaN    22/02/2019  NaN    \n",
       "2663  NaN    28/01/2019  NaN    \n",
       "2670  NaN    28/01/2019  NaN    \n",
       "2671  NaN    28/01/2019  NaN    "
      ]
     },
     "execution_count": 292,
     "metadata": {},
     "output_type": "execute_result"
    }
   ],
   "source": [
    "df[df.duplicated()]"
   ]
  },
  {
   "cell_type": "markdown",
   "id": "41b6edb7",
   "metadata": {},
   "source": [
    "It appears there are actually 3 dates that are duplciated. In the absence of other fields, there is no much value we can bring from dates merely."
   ]
  },
  {
   "cell_type": "markdown",
   "id": "3110e56b",
   "metadata": {},
   "source": [
    "### Assessment"
   ]
  },
  {
   "cell_type": "markdown",
   "id": "e010b20e",
   "metadata": {},
   "source": [
    "1. There are 55 missing values in review\n",
    "2. There are 4737 missing values in Location\n",
    "3. Date is in string format. The data type is to be converted into Datetime type"
   ]
  },
  {
   "cell_type": "code",
   "execution_count": 293,
   "id": "bc143120",
   "metadata": {},
   "outputs": [],
   "source": [
    "# 3. There are certain values in 'MM-YYYY'  foramt and that needs to be parsedd and \n",
    "# Date is in string format. The data type is to be converted into Datetime type\n",
    "from dateutil.parser import parse\n",
    "import pandas as pd\n",
    "\n",
    "for i in range(len(df['date'])):\n",
    "    df['date'][i] = parse(df['date'][i])\n",
    "df['date'] = pd.to_datetime(df['date']).dt.strftime(\"%d-%m-%Y\")"
   ]
  },
  {
   "cell_type": "code",
   "execution_count": 294,
   "id": "18617423",
   "metadata": {},
   "outputs": [],
   "source": [
    "df['date'] = pd.to_datetime(df['date'])"
   ]
  },
  {
   "cell_type": "code",
   "execution_count": 295,
   "id": "239ba10e",
   "metadata": {},
   "outputs": [
    {
     "data": {
      "text/plain": [
       "pandas._libs.tslibs.timestamps.Timestamp"
      ]
     },
     "execution_count": 295,
     "metadata": {},
     "output_type": "execute_result"
    }
   ],
   "source": [
    "type(df['date'][0])"
   ]
  },
  {
   "cell_type": "markdown",
   "id": "5de09aa3",
   "metadata": {},
   "source": [
    "#### Cleaning:\n",
    "1. There are 55 missing values in review column\n",
    "\n",
    "Assumption: I am not going to drop since i am not going to use review column in my analysis"
   ]
  },
  {
   "cell_type": "markdown",
   "id": "96749822",
   "metadata": {},
   "source": [
    "2. There are 4737 missing values in Location"
   ]
  },
  {
   "cell_type": "code",
   "execution_count": 296,
   "id": "071fc9b3",
   "metadata": {},
   "outputs": [
    {
     "name": "stdout",
     "output_type": "stream",
     "text": [
      "Percentage of Missing Values in Location is : 73.46464019851116\n"
     ]
    }
   ],
   "source": [
    "miss_percent = df['Location'].isna().sum()/df.shape[0]\n",
    "print ('Percentage of Missing Values in Location is : {}'.format(miss_percent*100))"
   ]
  },
  {
   "cell_type": "markdown",
   "id": "26f30547",
   "metadata": {},
   "source": [
    "This is huge number. this will impact the analysis while performing location wise. So, we would need to correct this from source"
   ]
  },
  {
   "cell_type": "markdown",
   "id": "f25d51b6",
   "metadata": {},
   "source": [
    " ### Analysis:"
   ]
  },
  {
   "cell_type": "code",
   "execution_count": 297,
   "id": "a1027675",
   "metadata": {},
   "outputs": [
    {
     "data": {
      "text/plain": [
       "Text(0.5, 1.0, 'Number of Review per Year')"
      ]
     },
     "execution_count": 297,
     "metadata": {},
     "output_type": "execute_result"
    },
    {
     "data": {
      "image/png": "[encoded data removed]",
      "text/plain": [
       "<Figure size 432x288 with 1 Axes>"
      ]
     },
     "metadata": {
      "needs_background": "light"
     },
     "output_type": "display_data"
    }
   ],
   "source": [
    "# analysing the reviews per year\n",
    "\n",
    "df['year'] = pd.DatetimeIndex(df['date']).year\n",
    "sns.countplot(data=df, x='year', color = base_color, order = gen_order_year)\n",
    "plt.title('Number of Review per Year')"
   ]
  },
  {
   "cell_type": "code",
   "execution_count": 298,
   "id": "f4628528",
   "metadata": {},
   "outputs": [],
   "source": [
    "base_color = sns.color_palette()[0]\n",
    "gen_order_year = df['year'].value_counts().index\n"
   ]
  },
  {
   "cell_type": "markdown",
   "id": "5d81b88b",
   "metadata": {},
   "source": [
    "#### per above figure, its understood that 2019 has got more visits to the hotel"
   ]
  },
  {
   "cell_type": "code",
   "execution_count": 299,
   "id": "bf6ead1d",
   "metadata": {},
   "outputs": [
    {
     "data": {
      "image/png": "[encoded data removed]",
      "text/plain": [
       "<Figure size 432x288 with 1 Axes>"
      ]
     },
     "metadata": {
      "needs_background": "light"
     },
     "output_type": "display_data"
    }
   ],
   "source": [
    "# analysing the reviews per month\n",
    "df['month'] = pd.DatetimeIndex(df['date']).month\n",
    "sns.countplot(data = df, x='month', color = base_color, order = gen_order_month)\n",
    "gen_order_month = df['month'].value_counts().index"
   ]
  },
  {
   "cell_type": "code",
   "execution_count": 300,
   "id": "3f80b128",
   "metadata": {},
   "outputs": [],
   "source": [
    "#### Per the above figure, its determined that the more visits happened in August"
   ]
  },
  {
   "cell_type": "markdown",
   "id": "55096561",
   "metadata": {},
   "source": [
    "#### Time period of review considered"
   ]
  },
  {
   "cell_type": "code",
   "execution_count": 301,
   "id": "aab41742",
   "metadata": {},
   "outputs": [
    {
     "name": "stdout",
     "output_type": "stream",
     "text": [
      "1235 days 00:00:00\n"
     ]
    }
   ],
   "source": [
    "max_time = df['date'].max()\n",
    "min_time = df['date'].min()\n",
    "time_period = (max_time - min_time)\n",
    "print (time_period)"
   ]
  },
  {
   "cell_type": "code",
   "execution_count": null,
   "id": "bac34d38",
   "metadata": {},
   "outputs": [],
   "source": []
  }
 ],
 "metadata": {
  "kernelspec": {
   "display_name": "Python 3",
   "language": "python",
   "name": "python3"
  },
  "language_info": {
   "codemirror_mode": {
    "name": "ipython",
    "version": 3
   },
   "file_extension": ".py",
   "mimetype": "text/x-python",
   "name": "python",
   "nbconvert_exporter": "python",
   "pygments_lexer": "ipython3",
   "version": "3.8.8"
  }
 },
 "nbformat": 4,
 "nbformat_minor": 5
}
